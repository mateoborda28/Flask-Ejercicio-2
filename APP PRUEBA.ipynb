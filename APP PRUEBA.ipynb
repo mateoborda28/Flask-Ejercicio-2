{
 "cells": [
  {
   "cell_type": "code",
   "execution_count": 22,
   "metadata": {},
   "outputs": [],
   "source": [
    "import requests\n",
    "import json"
   ]
  },
  {
   "cell_type": "code",
   "execution_count": 24,
   "metadata": {},
   "outputs": [
    {
     "name": "stdout",
     "output_type": "stream",
     "text": [
      "200\n",
      "{'Email': 'xzt37@hotmail.com', 'prediction': 435.0}\n"
     ]
    }
   ],
   "source": [
    "# URL de la API\n",
    "url = 'http://127.0.0.1:8000/predict'\n",
    "\n",
    "# Datos de ejemplo (los reales los proporcionarás al momento de uso)\n",
    "data = {\n",
    "    \"Email\": \"xzt37@hotmail.com\",\n",
    "    \"Address\": \"Munich\",\n",
    "    \"dominio\": \"Otro\",\n",
    "    \"Tec\": \"PC\",\n",
    "    \"Avg. Session Length\": 31.82797905546526,\n",
    "    \"Time on App\": 12.461147444665416,\n",
    "    \"Time on Website\": 37.42899736939191,\n",
    "    \"Length of Membership\": 2.9747368150832405\n",
    "    }\n",
    "\n",
    "# Hacer la solicitud POST\n",
    "headers = {\"Content-Type\": \"application/json\"}\n",
    "#response = requests.post(url, data=json.dumps(data), headers=headers)\n",
    "response = requests.post(url, json=data)\n",
    "# Verificar el código de estado y la respuesta\n",
    "print(response.status_code)\n",
    "if response.status_code == 200:\n",
    "    print(response.json())\n",
    "else:\n",
    "    print(\"Error en la solicitud:\", response.text)"
   ]
  }
 ],
 "metadata": {
  "kernelspec": {
   "display_name": "my_env",
   "language": "python",
   "name": "python3"
  },
  "language_info": {
   "codemirror_mode": {
    "name": "ipython",
    "version": 3
   },
   "file_extension": ".py",
   "mimetype": "text/x-python",
   "name": "python",
   "nbconvert_exporter": "python",
   "pygments_lexer": "ipython3",
   "version": "3.10.11"
  }
 },
 "nbformat": 4,
 "nbformat_minor": 2
}
